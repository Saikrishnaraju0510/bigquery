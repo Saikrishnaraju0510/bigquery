{
  "nbformat": 4,
  "nbformat_minor": 0,
  "metadata": {
    "colab": {
      "name": "Untitled7.ipynb",
      "provenance": [],
      "authorship_tag": "ABX9TyPQAClDd0j6MbqwHumTD4Sf",
      "include_colab_link": true
    },
    "kernelspec": {
      "name": "python3",
      "display_name": "Python 3"
    },
    "language_info": {
      "name": "python"
    }
  },
  "cells": [
    {
      "cell_type": "markdown",
      "metadata": {
        "id": "view-in-github",
        "colab_type": "text"
      },
      "source": [
        "<a href=\"https://colab.research.google.com/github/Saikrishnaraju0510/bigquery/blob/main/assignment1.ipynb\" target=\"_parent\"><img src=\"https://colab.research.google.com/assets/colab-badge.svg\" alt=\"Open In Colab\"/></a>"
      ]
    },
    {
      "cell_type": "code",
      "execution_count": 1,
      "metadata": {
        "colab": {
          "base_uri": "https://localhost:8080/"
        },
        "id": "QbX4WvZGh-BF",
        "outputId": "f2f5d77c-bbec-4418-ceaa-cf0faa4cadcd"
      },
      "outputs": [
        {
          "output_type": "stream",
          "name": "stdout",
          "text": [
            "Collecting apache_beam\n",
            "  Downloading apache_beam-2.34.0-cp37-cp37m-manylinux2010_x86_64.whl (9.8 MB)\n",
            "\u001b[K     |████████████████████████████████| 9.8 MB 11.9 MB/s \n",
            "\u001b[?25hCollecting requests<3.0.0,>=2.24.0\n",
            "  Downloading requests-2.26.0-py2.py3-none-any.whl (62 kB)\n",
            "\u001b[K     |████████████████████████████████| 62 kB 649 kB/s \n",
            "\u001b[?25hCollecting fastavro<2,>=0.21.4\n",
            "  Downloading fastavro-1.4.7-cp37-cp37m-manylinux_2_17_x86_64.manylinux2014_x86_64.whl (2.3 MB)\n",
            "\u001b[K     |████████████████████████████████| 2.3 MB 56.3 MB/s \n",
            "\u001b[?25hCollecting avro-python3!=1.9.2,<1.10.0,>=1.8.1\n",
            "  Downloading avro-python3-1.9.2.1.tar.gz (37 kB)\n",
            "Requirement already satisfied: crcmod<2.0,>=1.7 in /usr/local/lib/python3.7/dist-packages (from apache_beam) (1.7)\n",
            "Requirement already satisfied: pymongo<4.0.0,>=3.8.0 in /usr/local/lib/python3.7/dist-packages (from apache_beam) (3.12.1)\n",
            "Requirement already satisfied: pyarrow<6.0.0,>=0.15.1 in /usr/local/lib/python3.7/dist-packages (from apache_beam) (3.0.0)\n",
            "Collecting orjson<4.0\n",
            "  Downloading orjson-3.6.5-cp37-cp37m-manylinux_2_24_x86_64.whl (247 kB)\n",
            "\u001b[K     |████████████████████████████████| 247 kB 71.9 MB/s \n",
            "\u001b[?25hRequirement already satisfied: typing-extensions<4,>=3.7.0 in /usr/local/lib/python3.7/dist-packages (from apache_beam) (3.10.0.2)\n",
            "Requirement already satisfied: protobuf<4,>=3.12.2 in /usr/local/lib/python3.7/dist-packages (from apache_beam) (3.17.3)\n",
            "Collecting dill<0.3.2,>=0.3.1.1\n",
            "  Downloading dill-0.3.1.1.tar.gz (151 kB)\n",
            "\u001b[K     |████████████████████████████████| 151 kB 68.1 MB/s \n",
            "\u001b[?25hRequirement already satisfied: python-dateutil<3,>=2.8.0 in /usr/local/lib/python3.7/dist-packages (from apache_beam) (2.8.2)\n",
            "Requirement already satisfied: oauth2client<5,>=2.0.1 in /usr/local/lib/python3.7/dist-packages (from apache_beam) (4.1.3)\n",
            "Requirement already satisfied: pydot<2,>=1.2.0 in /usr/local/lib/python3.7/dist-packages (from apache_beam) (1.3.0)\n",
            "Requirement already satisfied: numpy<1.21.0,>=1.14.3 in /usr/local/lib/python3.7/dist-packages (from apache_beam) (1.19.5)\n",
            "Collecting future<1.0.0,>=0.18.2\n",
            "  Downloading future-0.18.2.tar.gz (829 kB)\n",
            "\u001b[K     |████████████████████████████████| 829 kB 41.6 MB/s \n",
            "\u001b[?25hRequirement already satisfied: pytz>=2018.3 in /usr/local/lib/python3.7/dist-packages (from apache_beam) (2018.9)\n",
            "Collecting hdfs<3.0.0,>=2.1.0\n",
            "  Downloading hdfs-2.6.0-py3-none-any.whl (33 kB)\n",
            "Requirement already satisfied: httplib2<0.20.0,>=0.8 in /usr/local/lib/python3.7/dist-packages (from apache_beam) (0.17.4)\n",
            "Requirement already satisfied: grpcio<2,>=1.29.0 in /usr/local/lib/python3.7/dist-packages (from apache_beam) (1.42.0)\n",
            "Requirement already satisfied: six>=1.5.2 in /usr/local/lib/python3.7/dist-packages (from grpcio<2,>=1.29.0->apache_beam) (1.15.0)\n",
            "Requirement already satisfied: docopt in /usr/local/lib/python3.7/dist-packages (from hdfs<3.0.0,>=2.1.0->apache_beam) (0.6.2)\n",
            "Requirement already satisfied: rsa>=3.1.4 in /usr/local/lib/python3.7/dist-packages (from oauth2client<5,>=2.0.1->apache_beam) (4.8)\n",
            "Requirement already satisfied: pyasn1>=0.1.7 in /usr/local/lib/python3.7/dist-packages (from oauth2client<5,>=2.0.1->apache_beam) (0.4.8)\n",
            "Requirement already satisfied: pyasn1-modules>=0.0.5 in /usr/local/lib/python3.7/dist-packages (from oauth2client<5,>=2.0.1->apache_beam) (0.2.8)\n",
            "Requirement already satisfied: pyparsing>=2.1.4 in /usr/local/lib/python3.7/dist-packages (from pydot<2,>=1.2.0->apache_beam) (3.0.6)\n",
            "Requirement already satisfied: charset-normalizer~=2.0.0 in /usr/local/lib/python3.7/dist-packages (from requests<3.0.0,>=2.24.0->apache_beam) (2.0.8)\n",
            "Requirement already satisfied: certifi>=2017.4.17 in /usr/local/lib/python3.7/dist-packages (from requests<3.0.0,>=2.24.0->apache_beam) (2021.10.8)\n",
            "Requirement already satisfied: urllib3<1.27,>=1.21.1 in /usr/local/lib/python3.7/dist-packages (from requests<3.0.0,>=2.24.0->apache_beam) (1.24.3)\n",
            "Requirement already satisfied: idna<4,>=2.5 in /usr/local/lib/python3.7/dist-packages (from requests<3.0.0,>=2.24.0->apache_beam) (2.10)\n",
            "Building wheels for collected packages: avro-python3, dill, future\n",
            "  Building wheel for avro-python3 (setup.py) ... \u001b[?25l\u001b[?25hdone\n",
            "  Created wheel for avro-python3: filename=avro_python3-1.9.2.1-py3-none-any.whl size=43512 sha256=066d4157b24ca52e409ef316e92ed12598057dd4b082d0a7117d8a7768e8d57f\n",
            "  Stored in directory: /root/.cache/pip/wheels/bc/49/5f/fdb5b9d85055c478213e0158ac122b596816149a02d82e0ab1\n",
            "  Building wheel for dill (setup.py) ... \u001b[?25l\u001b[?25hdone\n",
            "  Created wheel for dill: filename=dill-0.3.1.1-py3-none-any.whl size=78546 sha256=31cf1feaf96af5a8d8d11ef8d1221c5fe7f0f038c79ac396caacba2f932af578\n",
            "  Stored in directory: /root/.cache/pip/wheels/a4/61/fd/c57e374e580aa78a45ed78d5859b3a44436af17e22ca53284f\n",
            "  Building wheel for future (setup.py) ... \u001b[?25l\u001b[?25hdone\n",
            "  Created wheel for future: filename=future-0.18.2-py3-none-any.whl size=491070 sha256=0ce6813c96971cde1209836f60c2d48e832e7e76b6f1bc61bab4c57914628378\n",
            "  Stored in directory: /root/.cache/pip/wheels/56/b0/fe/4410d17b32f1f0c3cf54cdfb2bc04d7b4b8f4ae377e2229ba0\n",
            "Successfully built avro-python3 dill future\n",
            "Installing collected packages: requests, orjson, hdfs, future, fastavro, dill, avro-python3, apache-beam\n",
            "  Attempting uninstall: requests\n",
            "    Found existing installation: requests 2.23.0\n",
            "    Uninstalling requests-2.23.0:\n",
            "      Successfully uninstalled requests-2.23.0\n",
            "  Attempting uninstall: future\n",
            "    Found existing installation: future 0.16.0\n",
            "    Uninstalling future-0.16.0:\n",
            "      Successfully uninstalled future-0.16.0\n",
            "  Attempting uninstall: dill\n",
            "    Found existing installation: dill 0.3.4\n",
            "    Uninstalling dill-0.3.4:\n",
            "      Successfully uninstalled dill-0.3.4\n",
            "\u001b[31mERROR: pip's dependency resolver does not currently take into account all the packages that are installed. This behaviour is the source of the following dependency conflicts.\n",
            "multiprocess 0.70.12.2 requires dill>=0.3.4, but you have dill 0.3.1.1 which is incompatible.\n",
            "google-colab 1.0.0 requires requests~=2.23.0, but you have requests 2.26.0 which is incompatible.\n",
            "datascience 0.10.6 requires folium==0.2.1, but you have folium 0.8.3 which is incompatible.\u001b[0m\n",
            "Successfully installed apache-beam-2.34.0 avro-python3-1.9.2.1 dill-0.3.1.1 fastavro-1.4.7 future-0.18.2 hdfs-2.6.0 orjson-3.6.5 requests-2.26.0\n"
          ]
        }
      ],
      "source": [
        "!pip install apache_beam"
      ]
    },
    {
      "cell_type": "code",
      "source": [
        "import apache_beam as beam\n",
        "import datetime\n",
        "def find_date(x):\n",
        "  a=int(x[13][8:])\n",
        "  return x,a\n",
        "today=datetime.datetime.now()\n",
        "day=today.day\n",
        "dayint=int(day)\n",
        "def final_output(element):\n",
        "  return \"client_id-\"+str(element[0][0])+' Name-'+str(element[0][4])+str(element[0][5])+\",\"+str(element[0][6])+\",\"+str(element[0][2])+'-'+str(element[0][3])+\" phone=\"+str(element[0][7])+\" amount:\"+str(element[0][10])+\" loan id:\"+str(element[0][9])+\" date:\"+str(element[0][13])\n",
        "p=beam.Pipeline()\n",
        "loan_payments=(\n",
        "    p\n",
        "    | \"read input\">>beam.io.ReadFromText('bank_details.csv',skip_header_lines=1)\n",
        "    | \"split\">>beam.Map(lambda x:x.split(','))\n",
        "    | \"ind all dates\">>beam.Map(find_date)\n",
        "    | \"filter req data\">>beam.Filter(lambda x:x[1]<=dayint)\n",
        "    | \"format output\">>beam.Map(final_output)\n",
        "    | \"write to output file\">>beam.io.WriteToText('data/output')\n",
        ")\n",
        "loan_payments_today=(\n",
        "    p\n",
        "    | beam.io.ReadFromText('bank_details.csv',skip_header_lines=1)\n",
        "    | beam.Map(lambda x:x.split(','))\n",
        "    | beam.Map(find_date)\n",
        "    | beam.Filter(lambda x:x[1]==dayint)\n",
        "    | beam.Map(final_output)\n",
        "    | beam.io.WriteToText('data/output1')\n",
        ")\n",
        "p.run()"
      ],
      "metadata": {
        "colab": {
          "base_uri": "https://localhost:8080/"
        },
        "id": "kJwlR8m0iIrj",
        "outputId": "82f1573d-0ed8-427c-a5d4-27c6914f7b2d"
      },
      "execution_count": 3,
      "outputs": [
        {
          "output_type": "stream",
          "name": "stderr",
          "text": [
            "WARNING:root:Make sure that locally built Python SDK docker image has Python 3.7 interpreter.\n",
            "WARNING:apache_beam.io.filebasedsink:Deleting 1 existing files in target path matching: -*-of-%(num_shards)05d\n",
            "WARNING:apache_beam.io.filebasedsink:Deleting 1 existing files in target path matching: -*-of-%(num_shards)05d\n"
          ]
        },
        {
          "output_type": "execute_result",
          "data": {
            "text/plain": [
              "<apache_beam.runners.portability.fn_api_runner.fn_runner.RunnerResult at 0x7f876d2c5310>"
            ]
          },
          "metadata": {},
          "execution_count": 3
        }
      ]
    },
    {
      "cell_type": "code",
      "source": [
        "!{('head -n 20 data/output-00000-of-00001')}"
      ],
      "metadata": {
        "colab": {
          "base_uri": "https://localhost:8080/"
        },
        "id": "QwcxzJfMiaEz",
        "outputId": "2ed0f221-d97f-46f1-c474-6ed0c5d8731a"
      },
      "execution_count": 4,
      "outputs": [
        {
          "output_type": "stream",
          "name": "stdout",
          "text": [
            "client_id-C00012144 Name-BlakeCameron,Fowler,Male-19 phone=804-377-3995 amount:331560 loan id:L00007004 date:2015-03-15\n",
            "client_id-C00002277 Name-ChazCesar,Byrne,Male-20 phone=212-826-1832 amount:209040 loan id:L00005334 date:2018-09-10\n",
            "client_id-C00010282 Name-DylanCooper,Cunningham,Male-20 phone=212-057-2976 amount:247728 loan id:L00006698 date:2016-03-10\n",
            "client_id-C00001300 Name-JaxenEdward,Henson,Male-20 phone=491-898-2540 amount:50976 loan id:L00005172 date:2018-04-16\n",
            "client_id-C00005977 Name-JacksonPresley,Adams,Male-20 phone=747-877-2798 amount:359760 loan id:L00006006 date:2016-11-15\n",
            "client_id-C00012695 Name-CarlosHunter,Barrett,Male-20 phone=595-517-1902 amount:259740 loan id:L00007104 date:2013-12-13\n",
            "client_id-C00006789 Name-HudsonDemarion,Foster,Male-20 phone=508-381-8803 amount:83016 loan id:L00006150 date:2014-11-02\n",
            "client_id-C00008359 Name-CarlosHiram,Tucker,Male-20 phone=302-865-0282 amount:194880 loan id:L00006403 date:2015-12-05\n",
            "client_id-C00013539 Name-IsaacAsher,Watts,Male-21 phone=121-273-0655 amount:274740 loan id:L00007240 date:2013-09-06\n",
            "client_id-C00013590 Name-OwenZachary,Holt,Male-22 phone=617-066-8236 amount:148920 loan id:L00007246 date:2016-08-20\n",
            "client_id-C00013276 Name-JaydenParker,Shelton,Male-23 phone=914-740-8456 amount:31140 loan id:L00007200 date:2018-07-11\n",
            "client_id-C00006359 Name-NathanAaryan,Cook,Male-23 phone=358-318-9548 amount:276300 loan id:L00006073 date:2016-11-12\n",
            "client_id-C00012003 Name-EzraAaron,Reid,Male-23 phone=544-647-4010 amount:151728 loan id:L00006986 date:2015-02-11\n",
            "client_id-C00004417 Name-StoneMerrick,Werner,Male-23 phone=212-818-3101 amount:271584 loan id:L00005719 date:2017-09-20\n",
            "client_id-C00013548 Name-ChristopherJaxson,Barker,Male-23 phone=212-590-3752 amount:168984 loan id:L00007241 date:2015-03-04\n",
            "client_id-C00007980 Name-BrodyPharaoh,Mcdonald,Male-23 phone=367-536-6389 amount:60156 loan id:L00006342 date:2015-11-12\n",
            "client_id-C00004529 Name-NobleEason,Forbes,Male-23 phone=652-722-6771 amount:68544 loan id:L00005741 date:2016-11-03\n",
            "client_id-C00005563 Name-LiamFrancesco,Harris,Male-24 phone=212-531-9558 amount:66696 loan id:L00005930 date:2018-01-12\n",
            "client_id-C00005433 Name-GiuseppeBoaz,Martinez,Male-24 phone=716-101-9418 amount:135360 loan id:L00005900 date:2016-01-01\n",
            "client_id-C00009370 Name-LandonDashawn,Palmer,Male-24 phone=617-011-7052 amount:153504 loan id:L00006541 date:2017-08-17\n"
          ]
        }
      ]
    },
    {
      "cell_type": "code",
      "source": [
        "!{('head -n 20 data/output1-00000-of-00001')}"
      ],
      "metadata": {
        "colab": {
          "base_uri": "https://localhost:8080/"
        },
        "id": "bg9_O16Oidap",
        "outputId": "b7a80a14-9562-4765-e47f-fd2864a126ef"
      },
      "execution_count": 5,
      "outputs": [
        {
          "output_type": "stream",
          "name": "stdout",
          "text": [
            "client_id-C00009760 Name-RobertConnor,Herrera,Male-30 phone=269-183-5585 amount:153144 loan id:L00006607 date:2017-10-21\n",
            "client_id-C00012729 Name-MaxLevi,Hopkins,Male-31 phone=780-032-9478 amount:31260 loan id:L00007110 date:2018-01-21\n",
            "client_id-C00000421 Name-KennethTalan,Matthews,Male-34 phone=595-127-5348 amount:100980 loan id:L00005044 date:2014-12-21\n",
            "client_id-C00008333 Name-JuanYasir,Olson,Male-34 phone=781-583-9195 amount:49320 loan id:L00006399 date:2017-12-21\n",
            "client_id-C00001852 Name-CliffordLeo,Villegas,Male-37 phone=716-042-9497 amount:191088 loan id:L00005270 date:2017-07-21\n",
            "client_id-C00011372 Name-HudsonCole,Franklin,Male-38 phone=976-117-5351 amount:86616 loan id:L00006876 date:2013-12-21\n",
            "client_id-C00009505 Name-EliTruett,Mills,Male-41 phone=212-042-8577 amount:94488 loan id:L00006562 date:2017-03-21\n",
            "client_id-C00013190 Name-LucasDominic,Lowe,Male-43 phone=617-175-3681 amount:154656 loan id:L00007189 date:2016-03-21\n",
            "client_id-C00002392 Name-MarekCohen,Kern,Male-44 phone=912-744-3872 amount:249312 loan id:L00005350 date:2016-04-21\n",
            "client_id-C00003962 Name-MalakiLochlan,Kerr,Male-47 phone=932-318-5524 amount:94512 loan id:L00005643 date:2017-09-21\n",
            "client_id-C00002451 Name-DovKendrick,Hopper,Male-60 phone=557-378-5768 amount:38520 loan id:L00005358 date:2017-01-21\n",
            "client_id-C00013201 Name-JacksonAustin,Rhodes,Male-62 phone=351-613-4548 amount:115992 loan id:L00007192 date:2014-12-21\n",
            "client_id-C00004993 Name-EllianaMackenzie,Keller,Female-26 phone=212-208-7168 amount:212976 loan id:L00005823 date:2018-06-21\n",
            "client_id-C00012102 Name-JaylaAmira,Young,Female-31 phone=587-385-7719 amount:97632 loan id:L00006998 date:2014-05-21\n",
            "client_id-C00003705 Name-MeganMargarita,Fountain,Female-34 phone=212-032-4610 amount:15420 loan id:L00005599 date:2015-03-21\n",
            "client_id-C00010459 Name-RoseKatie,Ortega,Female-35 phone=385-544-5443 amount:21072 loan id:L00006721 date:2014-01-21\n",
            "client_id-C00003163 Name-RiverLucie,Heard,Female-35 phone=212-544-9434 amount:136344 loan id:L00005501 date:2018-05-21\n",
            "client_id-C00006936 Name-PaisleyRebecca,Lee,Female-40 phone=151-970-7677 amount:290700 loan id:L00006175 date:2016-02-21\n",
            "client_id-C00011050 Name-AdrianaLia,Clark,Female-42 phone=318-969-0307 amount:45024 loan id:L00006805 date:2016-12-21\n",
            "client_id-C00006892 Name-CamilaAdriana,White,Female-48 phone=212-136-4486 amount:99216 loan id:L00006168 date:2018-11-21\n"
          ]
        }
      ]
    }
  ]
}