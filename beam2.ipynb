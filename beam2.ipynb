{
  "nbformat": 4,
  "nbformat_minor": 0,
  "metadata": {
    "colab": {
      "name": "Untitled2.ipynb",
      "provenance": [],
      "authorship_tag": "ABX9TyO8lWN+0BKWNIc/m+nqDmkh",
      "include_colab_link": true
    },
    "kernelspec": {
      "name": "python3",
      "display_name": "Python 3"
    },
    "language_info": {
      "name": "python"
    }
  },
  "cells": [
    {
      "cell_type": "markdown",
      "metadata": {
        "id": "view-in-github",
        "colab_type": "text"
      },
      "source": [
        "<a href=\"https://colab.research.google.com/github/Saikrishnaraju0510/bigquery/blob/main/beam2.ipynb\" target=\"_parent\"><img src=\"https://colab.research.google.com/assets/colab-badge.svg\" alt=\"Open In Colab\"/></a>"
      ]
    },
    {
      "cell_type": "code",
      "execution_count": 2,
      "metadata": {
        "colab": {
          "base_uri": "https://localhost:8080/"
        },
        "id": "3c9WiJZIQJf4",
        "outputId": "438b493e-c09b-45d1-da3b-6c03764187b2"
      },
      "outputs": [
        {
          "output_type": "stream",
          "name": "stdout",
          "text": [
            "Collecting apache_beam\n",
            "  Downloading apache_beam-2.34.0-cp37-cp37m-manylinux2010_x86_64.whl (9.8 MB)\n",
            "\u001b[K     |████████████████████████████████| 9.8 MB 4.0 MB/s \n",
            "\u001b[?25hCollecting hdfs<3.0.0,>=2.1.0\n",
            "  Downloading hdfs-2.6.0-py3-none-any.whl (33 kB)\n",
            "Collecting dill<0.3.2,>=0.3.1.1\n",
            "  Downloading dill-0.3.1.1.tar.gz (151 kB)\n",
            "\u001b[K     |████████████████████████████████| 151 kB 42.1 MB/s \n",
            "\u001b[?25hCollecting future<1.0.0,>=0.18.2\n",
            "  Downloading future-0.18.2.tar.gz (829 kB)\n",
            "\u001b[K     |████████████████████████████████| 829 kB 29.4 MB/s \n",
            "\u001b[?25hRequirement already satisfied: httplib2<0.20.0,>=0.8 in /usr/local/lib/python3.7/dist-packages (from apache_beam) (0.17.4)\n",
            "Collecting orjson<4.0\n",
            "  Downloading orjson-3.6.5-cp37-cp37m-manylinux_2_24_x86_64.whl (247 kB)\n",
            "\u001b[K     |████████████████████████████████| 247 kB 38.5 MB/s \n",
            "\u001b[?25hRequirement already satisfied: protobuf<4,>=3.12.2 in /usr/local/lib/python3.7/dist-packages (from apache_beam) (3.17.3)\n",
            "Collecting fastavro<2,>=0.21.4\n",
            "  Downloading fastavro-1.4.7-cp37-cp37m-manylinux_2_17_x86_64.manylinux2014_x86_64.whl (2.3 MB)\n",
            "\u001b[K     |████████████████████████████████| 2.3 MB 44.0 MB/s \n",
            "\u001b[?25hRequirement already satisfied: crcmod<2.0,>=1.7 in /usr/local/lib/python3.7/dist-packages (from apache_beam) (1.7)\n",
            "Requirement already satisfied: python-dateutil<3,>=2.8.0 in /usr/local/lib/python3.7/dist-packages (from apache_beam) (2.8.2)\n",
            "Requirement already satisfied: numpy<1.21.0,>=1.14.3 in /usr/local/lib/python3.7/dist-packages (from apache_beam) (1.19.5)\n",
            "Requirement already satisfied: pymongo<4.0.0,>=3.8.0 in /usr/local/lib/python3.7/dist-packages (from apache_beam) (3.12.1)\n",
            "Collecting avro-python3!=1.9.2,<1.10.0,>=1.8.1\n",
            "  Downloading avro-python3-1.9.2.1.tar.gz (37 kB)\n",
            "Requirement already satisfied: grpcio<2,>=1.29.0 in /usr/local/lib/python3.7/dist-packages (from apache_beam) (1.42.0)\n",
            "Requirement already satisfied: pydot<2,>=1.2.0 in /usr/local/lib/python3.7/dist-packages (from apache_beam) (1.3.0)\n",
            "Requirement already satisfied: oauth2client<5,>=2.0.1 in /usr/local/lib/python3.7/dist-packages (from apache_beam) (4.1.3)\n",
            "Requirement already satisfied: typing-extensions<4,>=3.7.0 in /usr/local/lib/python3.7/dist-packages (from apache_beam) (3.10.0.2)\n",
            "Requirement already satisfied: pytz>=2018.3 in /usr/local/lib/python3.7/dist-packages (from apache_beam) (2018.9)\n",
            "Collecting requests<3.0.0,>=2.24.0\n",
            "  Downloading requests-2.26.0-py2.py3-none-any.whl (62 kB)\n",
            "\u001b[K     |████████████████████████████████| 62 kB 799 kB/s \n",
            "\u001b[?25hRequirement already satisfied: pyarrow<6.0.0,>=0.15.1 in /usr/local/lib/python3.7/dist-packages (from apache_beam) (3.0.0)\n",
            "Requirement already satisfied: six>=1.5.2 in /usr/local/lib/python3.7/dist-packages (from grpcio<2,>=1.29.0->apache_beam) (1.15.0)\n",
            "Requirement already satisfied: docopt in /usr/local/lib/python3.7/dist-packages (from hdfs<3.0.0,>=2.1.0->apache_beam) (0.6.2)\n",
            "Requirement already satisfied: rsa>=3.1.4 in /usr/local/lib/python3.7/dist-packages (from oauth2client<5,>=2.0.1->apache_beam) (4.8)\n",
            "Requirement already satisfied: pyasn1-modules>=0.0.5 in /usr/local/lib/python3.7/dist-packages (from oauth2client<5,>=2.0.1->apache_beam) (0.2.8)\n",
            "Requirement already satisfied: pyasn1>=0.1.7 in /usr/local/lib/python3.7/dist-packages (from oauth2client<5,>=2.0.1->apache_beam) (0.4.8)\n",
            "Requirement already satisfied: pyparsing>=2.1.4 in /usr/local/lib/python3.7/dist-packages (from pydot<2,>=1.2.0->apache_beam) (3.0.6)\n",
            "Requirement already satisfied: certifi>=2017.4.17 in /usr/local/lib/python3.7/dist-packages (from requests<3.0.0,>=2.24.0->apache_beam) (2021.10.8)\n",
            "Requirement already satisfied: idna<4,>=2.5 in /usr/local/lib/python3.7/dist-packages (from requests<3.0.0,>=2.24.0->apache_beam) (2.10)\n",
            "Requirement already satisfied: urllib3<1.27,>=1.21.1 in /usr/local/lib/python3.7/dist-packages (from requests<3.0.0,>=2.24.0->apache_beam) (1.24.3)\n",
            "Requirement already satisfied: charset-normalizer~=2.0.0 in /usr/local/lib/python3.7/dist-packages (from requests<3.0.0,>=2.24.0->apache_beam) (2.0.8)\n",
            "Building wheels for collected packages: avro-python3, dill, future\n",
            "  Building wheel for avro-python3 (setup.py) ... \u001b[?25l\u001b[?25hdone\n",
            "  Created wheel for avro-python3: filename=avro_python3-1.9.2.1-py3-none-any.whl size=43512 sha256=9e9bb3a697a07dd61bc683303aaadd57b1f3b35f37a6946236ebe7fb811ac45b\n",
            "  Stored in directory: /root/.cache/pip/wheels/bc/49/5f/fdb5b9d85055c478213e0158ac122b596816149a02d82e0ab1\n",
            "  Building wheel for dill (setup.py) ... \u001b[?25l\u001b[?25hdone\n",
            "  Created wheel for dill: filename=dill-0.3.1.1-py3-none-any.whl size=78546 sha256=c4a305723081825150d01f17831df8f26559a891f98888848d5055b956901185\n",
            "  Stored in directory: /root/.cache/pip/wheels/a4/61/fd/c57e374e580aa78a45ed78d5859b3a44436af17e22ca53284f\n",
            "  Building wheel for future (setup.py) ... \u001b[?25l\u001b[?25hdone\n",
            "  Created wheel for future: filename=future-0.18.2-py3-none-any.whl size=491070 sha256=b9c43db7d5be31fa3210ac6b9f6d39c4fde766749c51c48bd9d35a86018d8039\n",
            "  Stored in directory: /root/.cache/pip/wheels/56/b0/fe/4410d17b32f1f0c3cf54cdfb2bc04d7b4b8f4ae377e2229ba0\n",
            "Successfully built avro-python3 dill future\n",
            "Installing collected packages: requests, orjson, hdfs, future, fastavro, dill, avro-python3, apache-beam\n",
            "  Attempting uninstall: requests\n",
            "    Found existing installation: requests 2.23.0\n",
            "    Uninstalling requests-2.23.0:\n",
            "      Successfully uninstalled requests-2.23.0\n",
            "  Attempting uninstall: future\n",
            "    Found existing installation: future 0.16.0\n",
            "    Uninstalling future-0.16.0:\n",
            "      Successfully uninstalled future-0.16.0\n",
            "  Attempting uninstall: dill\n",
            "    Found existing installation: dill 0.3.4\n",
            "    Uninstalling dill-0.3.4:\n",
            "      Successfully uninstalled dill-0.3.4\n",
            "\u001b[31mERROR: pip's dependency resolver does not currently take into account all the packages that are installed. This behaviour is the source of the following dependency conflicts.\n",
            "multiprocess 0.70.12.2 requires dill>=0.3.4, but you have dill 0.3.1.1 which is incompatible.\n",
            "google-colab 1.0.0 requires requests~=2.23.0, but you have requests 2.26.0 which is incompatible.\n",
            "datascience 0.10.6 requires folium==0.2.1, but you have folium 0.8.3 which is incompatible.\u001b[0m\n",
            "Successfully installed apache-beam-2.34.0 avro-python3-1.9.2.1 dill-0.3.1.1 fastavro-1.4.7 future-0.18.2 hdfs-2.6.0 orjson-3.6.5 requests-2.26.0\n"
          ]
        }
      ],
      "source": [
        "!pip install apache_beam"
      ]
    },
    {
      "cell_type": "code",
      "source": [
        "!{'mkdir -p data'}\n"
      ],
      "metadata": {
        "id": "Jcb0axrRQS-F"
      },
      "execution_count": 3,
      "outputs": []
    },
    {
      "cell_type": "code",
      "source": [
        "!ls\n"
      ],
      "metadata": {
        "colab": {
          "base_uri": "https://localhost:8080/"
        },
        "id": "7-X7dCwWQd7-",
        "outputId": "58e4c167-d141-4b49-bea6-5418652d953e"
      },
      "execution_count": 4,
      "outputs": [
        {
          "output_type": "stream",
          "name": "stdout",
          "text": [
            "data  sample_data\n"
          ]
        }
      ]
    },
    {
      "cell_type": "code",
      "source": [
        "import apache_beam as beam\n",
        "def calculatepoints(element):\n",
        "  element=element.split(',')\n",
        "  points=0\n",
        "  max_limit=int(element[5])\n",
        "  spent=int(element[6])\n",
        "  paid=int(element[8])\n",
        "  if(paid<(spent*0.7)):\n",
        "    points+=1\n",
        "  if(spent==max_limit and paid<spent):\n",
        "    points+=1\n",
        "  if((paid<(spent*0.7)) and spent==max_limit):\n",
        "    points+=1\n",
        "  return element[0]+','+element[1],points\n",
        "def format_result(x):\n",
        "  a,b=x\n",
        "  return str(a) + ' has ' + str(b)+' points'\n",
        "\n",
        "p=beam.Pipeline()\n",
        "card_defaulter=(\n",
        "    p\n",
        "    | beam.io.ReadFromText('cards.txt',skip_header_lines=1)\n",
        "    | beam.Map(calculatepoints)\n",
        "    | beam.CombinePerKey(sum)\n",
        "    | beam.Filter(lambda x:x[1]>0)\n",
        "    | beam.Map(format_result)\n",
        "    | beam.io.WriteToText('data/output')\n",
        ")\n",
        "p.run()\n",
        "\n",
        "!{('head -n 20 data/output-00000-of-00001')}"
      ],
      "metadata": {
        "colab": {
          "base_uri": "https://localhost:8080/"
        },
        "id": "kmPhSso7QiK8",
        "outputId": "68c3cc28-afbf-4bd2-b8dc-79b2c5a165ef"
      },
      "execution_count": 19,
      "outputs": [
        {
          "output_type": "stream",
          "name": "stderr",
          "text": [
            "WARNING:root:Make sure that locally built Python SDK docker image has Python 3.7 interpreter.\n",
            "WARNING:apache_beam.io.filebasedsink:Deleting 1 existing files in target path matching: -*-of-%(num_shards)05d\n"
          ]
        },
        {
          "output_type": "stream",
          "name": "stdout",
          "text": [
            "CT28383,Miyako has 3 points\n",
            "CT74474,Nanaho has 3 points\n",
            "CT66322,Chris has 1 points\n",
            "CT65528,Bonnie has 2 points\n",
            "CT84463,Isaac has 4 points\n",
            "CT12838,Isidore has 5 points\n",
            "CT96185,Danielle has 3 points\n",
            "CT74827,Hanna has 3 points\n",
            "CT98239,Sayuri has 4 points\n",
            "CT57141,Kaori has 2 points\n",
            "CT85915,Dean has 5 points\n",
            "CT86894,Miwa has 5 points\n",
            "CT33583,Odette has 4 points\n",
            "CT64751,Youko has 3 points\n",
            "CT14528,Omar has 6 points\n",
            "CT98422,Nicole has 2 points\n",
            "CT66224,Ivan has 2 points\n",
            "CT91012,Jerry has 4 points\n",
            "CT64089,Fay has 4 points\n",
            "CT56854,Michael has 4 points\n"
          ]
        }
      ]
    },
    {
      "cell_type": "code",
      "source": [
        ""
      ],
      "metadata": {
        "colab": {
          "base_uri": "https://localhost:8080/"
        },
        "id": "53cxb_vduNfL",
        "outputId": "c42d1c8d-1e57-47c4-cc19-e568d1d9b0a9"
      },
      "execution_count": 7,
      "outputs": [
        {
          "output_type": "execute_result",
          "data": {
            "text/plain": [
              "[\"head: cannot open 'data/card_skippers-00000-of-00001' for reading: No such file or directory\"]"
            ]
          },
          "metadata": {},
          "execution_count": 7
        }
      ]
    },
    {
      "cell_type": "code",
      "source": [
        ""
      ],
      "metadata": {
        "id": "S0ZmOUPeuci4"
      },
      "execution_count": 41,
      "outputs": []
    },
    {
      "cell_type": "code",
      "source": [
        "import apache_beam as beam\n",
        "\n",
        "# for datetime manipulation\n",
        "from datetime import datetime\n",
        "\n",
        "p = beam.Pipeline()\n",
        "\n",
        "def calculate_points(element):\n",
        "\n",
        "  customer_id, first_name, last_name, realtionship_id, card_type, max_limit, spent, cash_withdrawn,payment_cleared,payment_date = element.split(',')\n",
        "  #[CT28383,Miyako,Burns,R_7488,Issuers,500,490,38,101,30-01-2018]\n",
        "  \n",
        "  spent = int(spent)    # spent = 490\n",
        "  payment_cleared = int(payment_cleared)   #payment_cleared = 101\n",
        "  max_limit = int(max_limit)               # max_limit = 500\n",
        "  \n",
        "  key_name = customer_id + ', ' + first_name + ' ' + last_name     # key_name = CT28383,Miyako Burns\n",
        "  defaulter_points = 0\n",
        "  \n",
        "  # payment_cleared is less than 70% of spent - give 1 point\n",
        "  if payment_cleared < (spent * 0.7): \n",
        "     defaulter_points += 1                                                # defaulter_points =  1 \n",
        " \n",
        "  # spend is = 100% of max limit and any amount of payment is pending\n",
        "  if (spent == max_limit) and (payment_cleared < spent): \n",
        "     defaulter_points += 1                                                # defaulter_points =  2\n",
        "   \n",
        "  if (spent == max_limit) and (payment_cleared < (spent*0.7)): \n",
        "     defaulter_points += 1                                                # defaulter_points = 3\n",
        "                                  \n",
        "  return key_name, defaulter_points                                     # {CT28383,Miyako Burns  3}\n",
        "\n",
        "def format_result(sum_pair):\n",
        "  key_name, points = sum_pair\n",
        "  return str(key_name) + ', ' + str(points) + ' fraud_points'  \n",
        "\n",
        "def calculate_late_payment(elements):               # [CT88330,Humberto,Banks,Serviceman,LN_1559,Medical Loan,26-01-2018,2000,30-01-2018]\n",
        "  \n",
        "  due_date = datetime.strptime(elements[6].rstrip().lstrip(), '%d-%m-%Y')           # due_date = 26-01-2018\n",
        "  payment_date = datetime.strptime(elements[8].rstrip().lstrip(), '%d-%m-%Y')       # payment_date = 30-01-2018\n",
        "  \n",
        "  if payment_date <= due_date:\n",
        "    elements.append('0') \n",
        "  else:\n",
        "    elements.append('1')                           # [CT88330,Humberto,Banks,Serviceman,LN_1559,Medical Loan,26-01-2018,2000,30-01-2018,1]\n",
        "    \n",
        "  return elements\n",
        "\n",
        "def format_output(sum_pair):\n",
        "  key_name, miss_months = sum_pair\n",
        "  return str(key_name) + ', ' + str(miss_months) + ' missed'\n",
        "\n",
        "def calculate_month(input_list):        #input  [CT88330,Humberto,Banks,Serviceman,LN_1559,Medical Loan,26-01-2018, 2000, 30-01-2018]\n",
        "                                       \n",
        "  # Convert payment_date to datetime and extract month of payment\n",
        "  payment_date = datetime.strptime(input_list[8].rstrip().lstrip(), '%d-%m-%Y')  # payment_date = 30-01-2018\n",
        "  input_list.append(str(payment_date.month))                                     # [CT88330,Humberto,Banks,Serviceman,LN_1559,Medical Loan,26-01-2018, 2000, 30-01-2018, 01]\n",
        "  \n",
        "  return input_list \n",
        "\n",
        "def calculate_personal_loan_defaulter(input):       #input key -> CT68554,Ronald Chiki   value --> [01,05,06,07,08,09,10,11,12]\n",
        "    max_allowed_missed_months = 4\n",
        "    max_allowed_consecutive_missing = 2\n",
        "    \n",
        "    name, months_list = input                                   # [CT68554,Ronald,Chiki,Serviceman,LN_8460,Personal Loan,25-01-2018,50000,25-01-2018]\n",
        "      \n",
        "    months_list.sort()\n",
        "    sorted_months = months_list                                 # sorted_months = [01,05,06,07,08,09,10,11,12]\n",
        "    total_payments = len(sorted_months)                         # total_payments = 10\n",
        "    \n",
        "    missed_payments = 12 - total_payments                       # missed_payments = 2\n",
        "\n",
        "    if missed_payments > max_allowed_missed_months:             # false\n",
        "       return name, missed_payments                             #  N/A\n",
        "    \n",
        "    consecutive_missed_months = 0\n",
        "\n",
        "    temp = sorted_months[0] - 1                                 # temp = 0\n",
        "    if temp > consecutive_missed_months:                        # false\n",
        "        consecutive_missed_months = temp                        #NA\n",
        "\n",
        "    temp = 12 - sorted_months[total_payments-1]                  \n",
        "    if temp > consecutive_missed_months:\n",
        "        consecutive_missed_months = temp                        # temp = 0\n",
        "\n",
        "    for i in range(1, len(sorted_months)):                      # [01,05,06,07,08,09,10,11,12]\n",
        "        temp = sorted_months[i] - sorted_months[i-1] -1         # temp = 5-1-1 = 3\n",
        "        if temp > consecutive_missed_months:\n",
        "            consecutive_missed_months = temp                    # consecutive_missed_months = 3\n",
        "    \n",
        "    if consecutive_missed_months > max_allowed_consecutive_missing:\n",
        "       return name, consecutive_missed_months                   # CT68554,Ronald Chiki   3\n",
        "    \n",
        "    return name, 0 \n",
        "\n",
        "def return_tuple(element):\n",
        "  thisTuple=element.split(',')\n",
        "  return (thisTuple[0],thisTuple[1:])    \n",
        "\n",
        "card_defaulter = (\n",
        "                  p\n",
        "                  | 'Read credit card data' >> beam.io.ReadFromText('cards.txt',skip_header_lines=1)\n",
        "                  | 'Calculate defaulter points' >> beam.Map(calculate_points)                            \n",
        "                  | 'Combine points for defaulters' >> beam.CombinePerKey(sum)                            # key--> CT28383,Miyako Burns   value --> 6 \n",
        "                  | 'Filter card defaulters' >> beam.Filter(lambda element: element[1] > 0)\n",
        "                  | 'Format output' >> beam.Map(format_result)                                            # CT28383,Miyako Burns,6 fraud_points\n",
        "                 # | 'Write credit card data' >> beam.io.WriteToText('outputs/card_skippers') \n",
        "                  | 'tuple ' >> beam.Map(return_tuple)  \n",
        "                  )\t\t\n",
        "\n",
        "medical_loan_defaulter = (\n",
        "                            p\n",
        "                            |  beam.io.ReadFromText('loan.txt',skip_header_lines=1)   # 1stRow--> CT88330,Humberto,Banks,Serviceman,LN_1559,Medical Loan,26-01-2018, 2000, 30-01-2018\n",
        "                            | 'Split Row' >> beam.Map(lambda row : row.split(','))\n",
        "                            | 'Filter medical loan' >> beam.Filter(lambda element : (element[5]).rstrip().lstrip() == 'Medical Loan')\n",
        "                            | 'Calculate late payment' >> beam.Map(calculate_late_payment)\n",
        "                            | 'Make key value pairs' >> beam.Map(lambda elements: (elements[0] + ', ' + elements[1]+' '+elements[2], int(elements[9])) ) \n",
        "                            | 'Group medical loan based on month' >> beam.CombinePerKey(sum)                       # key--> (CT88330,Humberto Banks)  value --> 7\n",
        "                            | 'Check for medical loan defaulter' >> beam.Filter(lambda element: element[1] >= 3)\n",
        "                            | 'Format medical loan output' >> beam.Map(format_output)      # CT88330,Humberto Banks,7 missed\n",
        "                         )     \n",
        "\n",
        "personal_loan_defaulter = (\n",
        "                            p\n",
        "                            | 'Read' >> beam.io.ReadFromText('loan.txt',skip_header_lines=1)   \n",
        "                            | 'Split' >> beam.Map(lambda row : row.split(','))\n",
        "                            | 'Filter personal loan' >> beam.Filter(lambda element : (element[5]).rstrip().lstrip() == 'Personal Loan')\n",
        "                            | 'Split and Append New Month Column' >> beam.Map(calculate_month)   \n",
        "                            | 'Make key value pairs loan' >> beam.Map(lambda elements: (elements[0] + ', ' + elements[1]+' '+elements[2], int(elements[9])) ) \n",
        "                            | 'Group personal loan based on month' >> beam.GroupByKey()                                  # CT68554,Ronald Chiki [01,05,06,07,08,09,10,11,12]\n",
        "                            | 'Check for personal loan defaulter' >> beam.Map(calculate_personal_loan_defaulter)          # CT68554,Ronald Chiki   3\n",
        "                            | 'Filter only personal loan defaulters' >> beam.Filter(lambda element: element[1] > 0)\n",
        "                            | 'Format personal loan output' >> beam.Map(format_output)        # CT68554,Ronald Chiki,3 missed\n",
        "                          )   \n",
        "                          \n",
        "final_loan_defaulters = (\n",
        "                          ( personal_loan_defaulter, medical_loan_defaulter )\n",
        "                          | 'Combine all defaulters' >> beam.Flatten()\n",
        "                          #| 'Write all defaulters to text file' >> beam.io.WriteToText('outputs/loan_defaulters')\n",
        "                          | 'tuple for loan' >> beam.Map(return_tuple)\n",
        "                        )  \n",
        "                        \n",
        "both_defaulters =  (\n",
        "                    {'card_defaulter': card_defaulter, 'loan_defaulter': final_loan_defaulters}\n",
        "                    | beam.CoGroupByKey()\n",
        "                    |'Write p3 results' >> beam.io.WriteToText('outputs/both')\n",
        "                   )            \n",
        "\n",
        "\t\t\t\t  \t\t  \n",
        "p.run()"
      ],
      "metadata": {
        "colab": {
          "base_uri": "https://localhost:8080/"
        },
        "id": "O64Qhh3nqJle",
        "outputId": "97778b5c-0f04-4f43-8149-3cd26a6e7448"
      },
      "execution_count": 36,
      "outputs": [
        {
          "output_type": "stream",
          "name": "stderr",
          "text": [
            "WARNING:root:Make sure that locally built Python SDK docker image has Python 3.7 interpreter.\n"
          ]
        },
        {
          "output_type": "execute_result",
          "data": {
            "text/plain": [
              "<apache_beam.runners.portability.fn_api_runner.fn_runner.RunnerResult at 0x7f04d7943f10>"
            ]
          },
          "metadata": {},
          "execution_count": 36
        }
      ]
    }
  ]
}